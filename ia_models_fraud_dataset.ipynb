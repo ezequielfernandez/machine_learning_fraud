{
 "cells": [
  {
   "cell_type": "code",
   "execution_count": 1,
   "metadata": {},
   "outputs": [],
   "source": [
    "import pandas as pd\n",
    "import numpy as np\n",
    "import seaborn as sns\n",
    "from sklearn.model_selection import train_test_split\n",
    "from sklearn.ensemble import RandomForestClassifier\n",
    "from sklearn.linear_model import LogisticRegressionCV\n",
    "from sklearn.preprocessing import StandardScaler\n",
    "from sklearn.metrics import accuracy_score,plot_confusion_matrix, classification_report, confusion_matrix\n",
    "from sklearn.base import clone\n",
    "from sklearn.preprocessing import StandardScaler\n",
    "from sklearn.svm import SVC \n",
    "from sklearn.svm import LinearSVC\n",
    "import matplotlib.pyplot as plt\n",
    "from imblearn.over_sampling import SMOTE\n",
    "from collections import Counter\n",
    "from sklearn.tree import DecisionTreeRegressor\n",
    "from matplotlib import pyplot"
   ]
  },
  {
   "cell_type": "code",
   "execution_count": 2,
   "metadata": {},
   "outputs": [
    {
     "data": {
      "text/html": [
       "<div>\n",
       "<style scoped>\n",
       "    .dataframe tbody tr th:only-of-type {\n",
       "        vertical-align: middle;\n",
       "    }\n",
       "\n",
       "    .dataframe tbody tr th {\n",
       "        vertical-align: top;\n",
       "    }\n",
       "\n",
       "    .dataframe thead th {\n",
       "        text-align: right;\n",
       "    }\n",
       "</style>\n",
       "<table border=\"1\" class=\"dataframe\">\n",
       "  <thead>\n",
       "    <tr style=\"text-align: right;\">\n",
       "      <th></th>\n",
       "      <th>step</th>\n",
       "      <th>type</th>\n",
       "      <th>amount</th>\n",
       "      <th>nameOrig</th>\n",
       "      <th>oldbalanceOrg</th>\n",
       "      <th>newbalanceOrig</th>\n",
       "      <th>nameDest</th>\n",
       "      <th>oldbalanceDest</th>\n",
       "      <th>newbalanceDest</th>\n",
       "      <th>isFraud</th>\n",
       "      <th>isFlaggedFraud</th>\n",
       "    </tr>\n",
       "  </thead>\n",
       "  <tbody>\n",
       "    <tr>\n",
       "      <th>0</th>\n",
       "      <td>1</td>\n",
       "      <td>PAYMENT</td>\n",
       "      <td>9839.64</td>\n",
       "      <td>C1231006815</td>\n",
       "      <td>170136.0</td>\n",
       "      <td>160296.36</td>\n",
       "      <td>M1979787155</td>\n",
       "      <td>0.0</td>\n",
       "      <td>0.0</td>\n",
       "      <td>0</td>\n",
       "      <td>0</td>\n",
       "    </tr>\n",
       "    <tr>\n",
       "      <th>1</th>\n",
       "      <td>1</td>\n",
       "      <td>PAYMENT</td>\n",
       "      <td>1864.28</td>\n",
       "      <td>C1666544295</td>\n",
       "      <td>21249.0</td>\n",
       "      <td>19384.72</td>\n",
       "      <td>M2044282225</td>\n",
       "      <td>0.0</td>\n",
       "      <td>0.0</td>\n",
       "      <td>0</td>\n",
       "      <td>0</td>\n",
       "    </tr>\n",
       "    <tr>\n",
       "      <th>2</th>\n",
       "      <td>1</td>\n",
       "      <td>TRANSFER</td>\n",
       "      <td>181.00</td>\n",
       "      <td>C1305486145</td>\n",
       "      <td>181.0</td>\n",
       "      <td>0.00</td>\n",
       "      <td>C553264065</td>\n",
       "      <td>0.0</td>\n",
       "      <td>0.0</td>\n",
       "      <td>1</td>\n",
       "      <td>0</td>\n",
       "    </tr>\n",
       "    <tr>\n",
       "      <th>3</th>\n",
       "      <td>1</td>\n",
       "      <td>CASH_OUT</td>\n",
       "      <td>181.00</td>\n",
       "      <td>C840083671</td>\n",
       "      <td>181.0</td>\n",
       "      <td>0.00</td>\n",
       "      <td>C38997010</td>\n",
       "      <td>21182.0</td>\n",
       "      <td>0.0</td>\n",
       "      <td>1</td>\n",
       "      <td>0</td>\n",
       "    </tr>\n",
       "    <tr>\n",
       "      <th>4</th>\n",
       "      <td>1</td>\n",
       "      <td>PAYMENT</td>\n",
       "      <td>11668.14</td>\n",
       "      <td>C2048537720</td>\n",
       "      <td>41554.0</td>\n",
       "      <td>29885.86</td>\n",
       "      <td>M1230701703</td>\n",
       "      <td>0.0</td>\n",
       "      <td>0.0</td>\n",
       "      <td>0</td>\n",
       "      <td>0</td>\n",
       "    </tr>\n",
       "  </tbody>\n",
       "</table>\n",
       "</div>"
      ],
      "text/plain": [
       "   step      type    amount     nameOrig  oldbalanceOrg  newbalanceOrig  \\\n",
       "0     1   PAYMENT   9839.64  C1231006815       170136.0       160296.36   \n",
       "1     1   PAYMENT   1864.28  C1666544295        21249.0        19384.72   \n",
       "2     1  TRANSFER    181.00  C1305486145          181.0            0.00   \n",
       "3     1  CASH_OUT    181.00   C840083671          181.0            0.00   \n",
       "4     1   PAYMENT  11668.14  C2048537720        41554.0        29885.86   \n",
       "\n",
       "      nameDest  oldbalanceDest  newbalanceDest  isFraud  isFlaggedFraud  \n",
       "0  M1979787155             0.0             0.0        0               0  \n",
       "1  M2044282225             0.0             0.0        0               0  \n",
       "2   C553264065             0.0             0.0        1               0  \n",
       "3    C38997010         21182.0             0.0        1               0  \n",
       "4  M1230701703             0.0             0.0        0               0  "
      ]
     },
     "execution_count": 2,
     "metadata": {},
     "output_type": "execute_result"
    }
   ],
   "source": [
    "df = pd.read_csv(\"data/PS_20174392719_1491204439457_log.csv\")\n",
    "df.head()"
   ]
  },
  {
   "cell_type": "markdown",
   "metadata": {},
   "source": [
    "Análisis exploratorio"
   ]
  },
  {
   "cell_type": "code",
   "execution_count": 4,
   "metadata": {},
   "outputs": [
    {
     "data": {
      "text/plain": [
       "<bound method NDFrame.describe of          step      type      amount     nameOrig  oldbalanceOrg  \\\n",
       "0           1   PAYMENT     9839.64  C1231006815      170136.00   \n",
       "1           1   PAYMENT     1864.28  C1666544295       21249.00   \n",
       "2           1  TRANSFER      181.00  C1305486145         181.00   \n",
       "3           1  CASH_OUT      181.00   C840083671         181.00   \n",
       "4           1   PAYMENT    11668.14  C2048537720       41554.00   \n",
       "...       ...       ...         ...          ...            ...   \n",
       "6362615   743  CASH_OUT   339682.13   C786484425      339682.13   \n",
       "6362616   743  TRANSFER  6311409.28  C1529008245     6311409.28   \n",
       "6362617   743  CASH_OUT  6311409.28  C1162922333     6311409.28   \n",
       "6362618   743  TRANSFER   850002.52  C1685995037      850002.52   \n",
       "6362619   743  CASH_OUT   850002.52  C1280323807      850002.52   \n",
       "\n",
       "         newbalanceOrig     nameDest  oldbalanceDest  newbalanceDest  isFraud  \\\n",
       "0             160296.36  M1979787155            0.00            0.00        0   \n",
       "1              19384.72  M2044282225            0.00            0.00        0   \n",
       "2                  0.00   C553264065            0.00            0.00        1   \n",
       "3                  0.00    C38997010        21182.00            0.00        1   \n",
       "4              29885.86  M1230701703            0.00            0.00        0   \n",
       "...                 ...          ...             ...             ...      ...   \n",
       "6362615            0.00   C776919290            0.00       339682.13        1   \n",
       "6362616            0.00  C1881841831            0.00            0.00        1   \n",
       "6362617            0.00  C1365125890        68488.84      6379898.11        1   \n",
       "6362618            0.00  C2080388513            0.00            0.00        1   \n",
       "6362619            0.00   C873221189      6510099.11      7360101.63        1   \n",
       "\n",
       "         isFlaggedFraud  \n",
       "0                     0  \n",
       "1                     0  \n",
       "2                     0  \n",
       "3                     0  \n",
       "4                     0  \n",
       "...                 ...  \n",
       "6362615               0  \n",
       "6362616               0  \n",
       "6362617               0  \n",
       "6362618               0  \n",
       "6362619               0  \n",
       "\n",
       "[6362620 rows x 11 columns]>"
      ]
     },
     "execution_count": 4,
     "metadata": {},
     "output_type": "execute_result"
    }
   ],
   "source": [
    "df.describe"
   ]
  },
  {
   "cell_type": "code",
   "execution_count": 5,
   "metadata": {},
   "outputs": [
    {
     "data": {
      "text/plain": [
       "(6362620, 11)"
      ]
     },
     "execution_count": 5,
     "metadata": {},
     "output_type": "execute_result"
    }
   ],
   "source": [
    "df.shape"
   ]
  },
  {
   "cell_type": "code",
   "execution_count": 6,
   "metadata": {},
   "outputs": [
    {
     "data": {
      "text/plain": [
       "<seaborn.axisgrid.PairGrid at 0x7f83848c54c0>"
      ]
     },
     "execution_count": 6,
     "metadata": {},
     "output_type": "execute_result"
    },
    {
     "data": {
      "image/png": "[encoded data removed]",
      "text/plain": [
       "<Figure size 1440x1440 with 72 Axes>"
      ]
     },
     "metadata": {
      "needs_background": "light"
     },
     "output_type": "display_data"
    }
   ],
   "source": [
    "sns.pairplot(df[:100])"
   ]
  },
  {
   "cell_type": "markdown",
   "metadata": {},
   "source": [
    "Features:\n",
    "\n",
    "* step: represents a unit of time where 1 step equals 1 hour\n",
    "* type: type of online transaction\n",
    "* amount: the amount of the transaction\n",
    "* nameOrig: customer starting the transaction\n",
    "* oldbalanceOrg: balance before the transaction\n",
    "* newbalanceOrig: balance after the transaction\n",
    "* nameDest: recipient of the transaction\n",
    "* oldbalanceDest: initial balance of recipient before the transaction\n",
    "* newbalanceDest: the new balance of recipient after the transaction\n",
    "* isFraud: fraud transaction"
   ]
  },
  {
   "cell_type": "code",
   "execution_count": null,
   "metadata": {},
   "outputs": [
    {
     "ename": "KeyError",
     "evalue": "'RandomForest'",
     "output_type": "error",
     "traceback": [
      "\u001b[0;31m---------------------------------------------------------------------------\u001b[0m\n",
      "\u001b[0;31mKeyError\u001b[0m                                  Traceback (most recent call last)\n",
      "\u001b[1;32m/Users/ezefernandez/dev/python/aprendizaje/fraud/data_preprocessing.ipynb Celda 41\u001b[0m in \u001b[0;36m<cell line: 21>\u001b[0;34m()\u001b[0m\n",
      "\u001b[1;32m     <a href='vscode-notebook-cell:/Users/ezefernandez/dev/python/aprendizaje/fraud/data_preprocessing.ipynb#Y251sZmlsZQ%3D%3D?line=30'>31</a>\u001b[0m ganancia \u001b[39m=\u001b[39m (ganancia \u001b[39m/\u001b[39m ganancia_total) \u001b[39m*\u001b[39m \u001b[39m100\u001b[39m\n",
      "\u001b[1;32m     <a href='vscode-notebook-cell:/Users/ezefernandez/dev/python/aprendizaje/fraud/data_preprocessing.ipynb#Y251sZmlsZQ%3D%3D?line=31'>32</a>\u001b[0m results[model_name][\u001b[39m\"\u001b[39m\u001b[39mno_red_test_gain\u001b[39m\u001b[39m\"\u001b[39m] \u001b[39m=\u001b[39m \u001b[39mstr\u001b[39m(ganancia)\n",
      "\u001b[0;32m---> <a href='vscode-notebook-cell:/Users/ezefernandez/dev/python/aprendizaje/fraud/data_preprocessing.ipynb#Y251sZmlsZQ%3D%3D?line=32'>33</a>\u001b[0m models_trained[model_name][\u001b[39m'\u001b[39m\u001b[39mno_red\u001b[39m\u001b[39m'\u001b[39m] \u001b[39m=\u001b[39m model\n",
      "\u001b[1;32m     <a href='vscode-notebook-cell:/Users/ezefernandez/dev/python/aprendizaje/fraud/data_preprocessing.ipynb#Y251sZmlsZQ%3D%3D?line=34'>35</a>\u001b[0m \u001b[39m# Versión reducida sin oversampling\u001b[39;00m\n",
      "\u001b[1;32m     <a href='vscode-notebook-cell:/Users/ezefernandez/dev/python/aprendizaje/fraud/data_preprocessing.ipynb#Y251sZmlsZQ%3D%3D?line=35'>36</a>\u001b[0m model \u001b[39m=\u001b[39m clone(m[\u001b[39m1\u001b[39m])\n",
      "\n",
      "\u001b[0;31mKeyError\u001b[0m: 'RandomForest'"
     ]
    }
   ],
   "source": [
    "# De la doc de SKlearn:\n",
    "# Clone does a deep copy of the model in an estimator without actually copying attached data. \n",
    "# It yields a new estimator with the same parameters that has not been fitted on any data.\n",
    "from sklearn.base import clone\n",
    "from sklearn.linear_model import LogisticRegression, LogisticRegressionCV\n",
    "\n",
    "# Modelos a ensayar.\n",
    "models = [\n",
    "    (\"RandomForest\", RandomForestClassifier(n_estimators=50, random_state=42)),\n",
    "    (\"LogisticRegressionCV\", LogisticRegressionCV(random_state=42, solver='lbfgs', max_iter=150)),\n",
    "    (\"RandomForest_class_weight\", RandomForestClassifier(n_estimators=50, random_state=42, class_weight='balanced')),\n",
    "    (\"LogisticRegressionCV_class_weight\", LogisticRegressionCV(random_state=42, solver='lbfgs', max_iter=150, class_weight='balanced'))\n",
    "]\n",
    "\n",
    "# Aquí almacenaremos los resultados.\n",
    "results = {}\n",
    "models_trained = {}\n",
    "\n",
    "ganancia_total = total_gain(y_test, X_test['amount'])\n",
    "# Etrenamos cada modelo y almacenamos los resultados.\n",
    "for m in models:\n",
    "    model_name = m[0]\n",
    "    results[model_name] = {}\n",
    "    model = clone(m[1])\n",
    "    \n",
    "    # Versión sin reducir sin over sampling\n",
    "    model.fit(X_train, y_train)\n",
    "    # Utilizamos el método de predicción en los datos de prueba\n",
    "    predictions = model.predict(X_test)\n",
    "    ganancia = gain(predictions, y_test, X_test['amount'])\n",
    "    ganancia = (ganancia / ganancia_total) * 100\n",
    "    results[model_name][\"no_red_test_gain\"] = str(ganancia)\n",
    "    models_trained[model_name]['no_red'] = model\n",
    "    \n",
    "    # Versión reducida sin oversampling\n",
    "    model = clone(m[1])\n",
    "    model.fit(X_train[important_columns], y_train)\n",
    "    # Utilizamos el método de predicción en los datos de prueba\n",
    "    predictions = model.predict(X_test[important_columns])\n",
    "    ganancia = gain(predictions, y_test, X_test['amount'])\n",
    "    ganancia = (ganancia / ganancia_total) * 100\n",
    "    results[model_name][\"red_test_gain\"] = str(ganancia)\n",
    "    models_trained[model_name]['red'] = model\n",
    "\n",
    "    # Versión sin reducir con over sampling\n",
    "    model.fit(X_train_os, y_train_os)\n",
    "    # Utilizamos el método de predicción en los datos de prueba\n",
    "    predictions = model.predict(X_test)\n",
    "    ganancia = gain(predictions, y_test, X_test['amount'])\n",
    "    ganancia = (ganancia / ganancia_total) * 100\n",
    "    results[model_name][\"no_red_test_os_gain\"] = str(ganancia)\n",
    "    models_trained[model_name]['no_red_os'] = model\n",
    "\n",
    "    # Versión reducida con oversampling\n",
    "    model = clone(m[1])\n",
    "    model.fit(X_train[important_columns], y_train)\n",
    "    # Utilizamos el método de predicción en los datos de prueba\n",
    "    predictions = model.predict(X_test[important_columns])\n",
    "    ganancia = gain(predictions, y_test, X_test['amount'])\n",
    "    ganancia = (ganancia / ganancia_total) * 100\n",
    "    results[model_name][\"red_test_os_gain\"] = str(ganancia)\n",
    "    models_trained[model_name]['red_os'] = model\n",
    "\n",
    "df_results = pd.DataFrame(results).T\n",
    "df_results"
   ]
  },
  {
   "cell_type": "markdown",
   "metadata": {},
   "source": [
    "Verifico que no hay que completar o eliminar por datos faltantes"
   ]
  },
  {
   "cell_type": "code",
   "execution_count": 7,
   "metadata": {},
   "outputs": [
    {
     "data": {
      "text/plain": [
       "step              0\n",
       "type              0\n",
       "amount            0\n",
       "nameOrig          0\n",
       "oldbalanceOrg     0\n",
       "newbalanceOrig    0\n",
       "nameDest          0\n",
       "oldbalanceDest    0\n",
       "newbalanceDest    0\n",
       "isFraud           0\n",
       "isFlaggedFraud    0\n",
       "dtype: int64"
      ]
     },
     "execution_count": 7,
     "metadata": {},
     "output_type": "execute_result"
    }
   ],
   "source": [
    "df.isnull().sum()"
   ]
  },
  {
   "cell_type": "markdown",
   "metadata": {},
   "source": [
    "Tratamiento de nameOrig y nameDest"
   ]
  },
  {
   "cell_type": "code",
   "execution_count": 8,
   "metadata": {},
   "outputs": [
    {
     "name": "stdout",
     "output_type": "stream",
     "text": [
      "6353307\n",
      "2722362\n"
     ]
    }
   ],
   "source": [
    "print(len(df['nameOrig'].unique()))\n",
    "print(len(df['nameDest'].unique()))"
   ]
  },
  {
   "cell_type": "markdown",
   "metadata": {},
   "source": [
    "Paso los nombres a numeros usando un mapa"
   ]
  },
  {
   "cell_type": "code",
   "execution_count": 9,
   "metadata": {},
   "outputs": [],
   "source": [
    "orig = dict([(y,x+1) for x,y in enumerate(sorted(set(df['nameOrig'])))])\n",
    "dest = dict([(y,x+1) for x,y in enumerate(sorted(set(df['nameDest'])))])"
   ]
  },
  {
   "cell_type": "markdown",
   "metadata": {},
   "source": [
    "Verifico que no se perdió ningún valor"
   ]
  },
  {
   "cell_type": "code",
   "execution_count": 10,
   "metadata": {},
   "outputs": [
    {
     "name": "stdout",
     "output_type": "stream",
     "text": [
      "True\n",
      "True\n"
     ]
    }
   ],
   "source": [
    "print(len(orig.values()) == len(df['nameOrig'].unique()))\n",
    "print(len(dest.values()) == len(df['nameDest'].unique()))"
   ]
  },
  {
   "cell_type": "code",
   "execution_count": 11,
   "metadata": {},
   "outputs": [],
   "source": [
    "df['nameDest'] = df['nameDest'].map(lambda x: dest[x])\n",
    "df['nameOrig'] = df['nameOrig'].map(lambda x: orig[x])"
   ]
  },
  {
   "cell_type": "markdown",
   "metadata": {},
   "source": [
    "Verifico que sean números"
   ]
  },
  {
   "cell_type": "code",
   "execution_count": 12,
   "metadata": {},
   "outputs": [
    {
     "data": {
      "text/plain": [
       "0          1662095\n",
       "1          1733925\n",
       "2           439686\n",
       "3           391697\n",
       "4           828920\n",
       "            ...   \n",
       "6362615     505864\n",
       "6362616     260950\n",
       "6362617     108225\n",
       "6362618     319714\n",
       "6362619     534596\n",
       "Name: nameDest, Length: 6362620, dtype: int64"
      ]
     },
     "execution_count": 12,
     "metadata": {},
     "output_type": "execute_result"
    }
   ],
   "source": [
    "df['nameOrig'].astype(str).astype(int)\n",
    "df['nameDest'].astype(str).astype(int)"
   ]
  },
  {
   "cell_type": "markdown",
   "metadata": {},
   "source": [
    "Tratamiento de type"
   ]
  },
  {
   "cell_type": "code",
   "execution_count": 13,
   "metadata": {},
   "outputs": [
    {
     "data": {
      "text/plain": [
       "array(['PAYMENT', 'TRANSFER', 'CASH_OUT', 'DEBIT', 'CASH_IN'],\n",
       "      dtype=object)"
      ]
     },
     "execution_count": 13,
     "metadata": {},
     "output_type": "execute_result"
    }
   ],
   "source": [
    "df['type'].unique()"
   ]
  },
  {
   "cell_type": "markdown",
   "metadata": {},
   "source": [
    "Ya que no son muchos valores, puedo agregar dimensiones para cada uno de esos valores asi no favorezco a ninguno por tener un valor mayor."
   ]
  },
  {
   "cell_type": "code",
   "execution_count": 14,
   "metadata": {},
   "outputs": [
    {
     "data": {
      "text/html": [
       "<div>\n",
       "<style scoped>\n",
       "    .dataframe tbody tr th:only-of-type {\n",
       "        vertical-align: middle;\n",
       "    }\n",
       "\n",
       "    .dataframe tbody tr th {\n",
       "        vertical-align: top;\n",
       "    }\n",
       "\n",
       "    .dataframe thead th {\n",
       "        text-align: right;\n",
       "    }\n",
       "</style>\n",
       "<table border=\"1\" class=\"dataframe\">\n",
       "  <thead>\n",
       "    <tr style=\"text-align: right;\">\n",
       "      <th></th>\n",
       "      <th>step</th>\n",
       "      <th>amount</th>\n",
       "      <th>nameOrig</th>\n",
       "      <th>oldbalanceOrg</th>\n",
       "      <th>newbalanceOrig</th>\n",
       "      <th>nameDest</th>\n",
       "      <th>oldbalanceDest</th>\n",
       "      <th>newbalanceDest</th>\n",
       "      <th>isFraud</th>\n",
       "      <th>isFlaggedFraud</th>\n",
       "      <th>type_CASH_IN</th>\n",
       "      <th>type_CASH_OUT</th>\n",
       "      <th>type_DEBIT</th>\n",
       "      <th>type_PAYMENT</th>\n",
       "      <th>type_TRANSFER</th>\n",
       "    </tr>\n",
       "  </thead>\n",
       "  <tbody>\n",
       "    <tr>\n",
       "      <th>0</th>\n",
       "      <td>1</td>\n",
       "      <td>9839.64</td>\n",
       "      <td>757870</td>\n",
       "      <td>170136.00</td>\n",
       "      <td>160296.36</td>\n",
       "      <td>1662095</td>\n",
       "      <td>0.00</td>\n",
       "      <td>0.00</td>\n",
       "      <td>0</td>\n",
       "      <td>0</td>\n",
       "      <td>0</td>\n",
       "      <td>0</td>\n",
       "      <td>0</td>\n",
       "      <td>1</td>\n",
       "      <td>0</td>\n",
       "    </tr>\n",
       "    <tr>\n",
       "      <th>1</th>\n",
       "      <td>1</td>\n",
       "      <td>1864.28</td>\n",
       "      <td>2188999</td>\n",
       "      <td>21249.00</td>\n",
       "      <td>19384.72</td>\n",
       "      <td>1733925</td>\n",
       "      <td>0.00</td>\n",
       "      <td>0.00</td>\n",
       "      <td>0</td>\n",
       "      <td>0</td>\n",
       "      <td>0</td>\n",
       "      <td>0</td>\n",
       "      <td>0</td>\n",
       "      <td>1</td>\n",
       "      <td>0</td>\n",
       "    </tr>\n",
       "    <tr>\n",
       "      <th>2</th>\n",
       "      <td>1</td>\n",
       "      <td>181.00</td>\n",
       "      <td>1002157</td>\n",
       "      <td>181.00</td>\n",
       "      <td>0.00</td>\n",
       "      <td>439686</td>\n",
       "      <td>0.00</td>\n",
       "      <td>0.00</td>\n",
       "      <td>1</td>\n",
       "      <td>0</td>\n",
       "      <td>0</td>\n",
       "      <td>0</td>\n",
       "      <td>0</td>\n",
       "      <td>0</td>\n",
       "      <td>1</td>\n",
       "    </tr>\n",
       "    <tr>\n",
       "      <th>3</th>\n",
       "      <td>1</td>\n",
       "      <td>181.00</td>\n",
       "      <td>5828263</td>\n",
       "      <td>181.00</td>\n",
       "      <td>0.00</td>\n",
       "      <td>391697</td>\n",
       "      <td>21182.00</td>\n",
       "      <td>0.00</td>\n",
       "      <td>1</td>\n",
       "      <td>0</td>\n",
       "      <td>0</td>\n",
       "      <td>1</td>\n",
       "      <td>0</td>\n",
       "      <td>0</td>\n",
       "      <td>0</td>\n",
       "    </tr>\n",
       "    <tr>\n",
       "      <th>4</th>\n",
       "      <td>1</td>\n",
       "      <td>11668.14</td>\n",
       "      <td>3445982</td>\n",
       "      <td>41554.00</td>\n",
       "      <td>29885.86</td>\n",
       "      <td>828920</td>\n",
       "      <td>0.00</td>\n",
       "      <td>0.00</td>\n",
       "      <td>0</td>\n",
       "      <td>0</td>\n",
       "      <td>0</td>\n",
       "      <td>0</td>\n",
       "      <td>0</td>\n",
       "      <td>1</td>\n",
       "      <td>0</td>\n",
       "    </tr>\n",
       "    <tr>\n",
       "      <th>...</th>\n",
       "      <td>...</td>\n",
       "      <td>...</td>\n",
       "      <td>...</td>\n",
       "      <td>...</td>\n",
       "      <td>...</td>\n",
       "      <td>...</td>\n",
       "      <td>...</td>\n",
       "      <td>...</td>\n",
       "      <td>...</td>\n",
       "      <td>...</td>\n",
       "      <td>...</td>\n",
       "      <td>...</td>\n",
       "      <td>...</td>\n",
       "      <td>...</td>\n",
       "      <td>...</td>\n",
       "    </tr>\n",
       "    <tr>\n",
       "      <th>6362615</th>\n",
       "      <td>743</td>\n",
       "      <td>339682.13</td>\n",
       "      <td>5651848</td>\n",
       "      <td>339682.13</td>\n",
       "      <td>0.00</td>\n",
       "      <td>505864</td>\n",
       "      <td>0.00</td>\n",
       "      <td>339682.13</td>\n",
       "      <td>1</td>\n",
       "      <td>0</td>\n",
       "      <td>0</td>\n",
       "      <td>1</td>\n",
       "      <td>0</td>\n",
       "      <td>0</td>\n",
       "      <td>0</td>\n",
       "    </tr>\n",
       "    <tr>\n",
       "      <th>6362616</th>\n",
       "      <td>743</td>\n",
       "      <td>6311409.28</td>\n",
       "      <td>1737279</td>\n",
       "      <td>6311409.28</td>\n",
       "      <td>0.00</td>\n",
       "      <td>260950</td>\n",
       "      <td>0.00</td>\n",
       "      <td>0.00</td>\n",
       "      <td>1</td>\n",
       "      <td>0</td>\n",
       "      <td>0</td>\n",
       "      <td>0</td>\n",
       "      <td>0</td>\n",
       "      <td>0</td>\n",
       "      <td>1</td>\n",
       "    </tr>\n",
       "    <tr>\n",
       "      <th>6362617</th>\n",
       "      <td>743</td>\n",
       "      <td>6311409.28</td>\n",
       "      <td>533959</td>\n",
       "      <td>6311409.28</td>\n",
       "      <td>0.00</td>\n",
       "      <td>108225</td>\n",
       "      <td>68488.84</td>\n",
       "      <td>6379898.11</td>\n",
       "      <td>1</td>\n",
       "      <td>0</td>\n",
       "      <td>0</td>\n",
       "      <td>1</td>\n",
       "      <td>0</td>\n",
       "      <td>0</td>\n",
       "      <td>0</td>\n",
       "    </tr>\n",
       "    <tr>\n",
       "      <th>6362618</th>\n",
       "      <td>743</td>\n",
       "      <td>850002.52</td>\n",
       "      <td>2252933</td>\n",
       "      <td>850002.52</td>\n",
       "      <td>0.00</td>\n",
       "      <td>319714</td>\n",
       "      <td>0.00</td>\n",
       "      <td>0.00</td>\n",
       "      <td>1</td>\n",
       "      <td>0</td>\n",
       "      <td>0</td>\n",
       "      <td>0</td>\n",
       "      <td>0</td>\n",
       "      <td>0</td>\n",
       "      <td>1</td>\n",
       "    </tr>\n",
       "    <tr>\n",
       "      <th>6362619</th>\n",
       "      <td>743</td>\n",
       "      <td>850002.52</td>\n",
       "      <td>919230</td>\n",
       "      <td>850002.52</td>\n",
       "      <td>0.00</td>\n",
       "      <td>534596</td>\n",
       "      <td>6510099.11</td>\n",
       "      <td>7360101.63</td>\n",
       "      <td>1</td>\n",
       "      <td>0</td>\n",
       "      <td>0</td>\n",
       "      <td>1</td>\n",
       "      <td>0</td>\n",
       "      <td>0</td>\n",
       "      <td>0</td>\n",
       "    </tr>\n",
       "  </tbody>\n",
       "</table>\n",
       "<p>6362620 rows × 15 columns</p>\n",
       "</div>"
      ],
      "text/plain": [
       "         step      amount  nameOrig  oldbalanceOrg  newbalanceOrig  nameDest  \\\n",
       "0           1     9839.64    757870      170136.00       160296.36   1662095   \n",
       "1           1     1864.28   2188999       21249.00        19384.72   1733925   \n",
       "2           1      181.00   1002157         181.00            0.00    439686   \n",
       "3           1      181.00   5828263         181.00            0.00    391697   \n",
       "4           1    11668.14   3445982       41554.00        29885.86    828920   \n",
       "...       ...         ...       ...            ...             ...       ...   \n",
       "6362615   743   339682.13   5651848      339682.13            0.00    505864   \n",
       "6362616   743  6311409.28   1737279     6311409.28            0.00    260950   \n",
       "6362617   743  6311409.28    533959     6311409.28            0.00    108225   \n",
       "6362618   743   850002.52   2252933      850002.52            0.00    319714   \n",
       "6362619   743   850002.52    919230      850002.52            0.00    534596   \n",
       "\n",
       "         oldbalanceDest  newbalanceDest  isFraud  isFlaggedFraud  \\\n",
       "0                  0.00            0.00        0               0   \n",
       "1                  0.00            0.00        0               0   \n",
       "2                  0.00            0.00        1               0   \n",
       "3              21182.00            0.00        1               0   \n",
       "4                  0.00            0.00        0               0   \n",
       "...                 ...             ...      ...             ...   \n",
       "6362615            0.00       339682.13        1               0   \n",
       "6362616            0.00            0.00        1               0   \n",
       "6362617        68488.84      6379898.11        1               0   \n",
       "6362618            0.00            0.00        1               0   \n",
       "6362619      6510099.11      7360101.63        1               0   \n",
       "\n",
       "         type_CASH_IN  type_CASH_OUT  type_DEBIT  type_PAYMENT  type_TRANSFER  \n",
       "0                   0              0           0             1              0  \n",
       "1                   0              0           0             1              0  \n",
       "2                   0              0           0             0              1  \n",
       "3                   0              1           0             0              0  \n",
       "4                   0              0           0             1              0  \n",
       "...               ...            ...         ...           ...            ...  \n",
       "6362615             0              1           0             0              0  \n",
       "6362616             0              0           0             0              1  \n",
       "6362617             0              1           0             0              0  \n",
       "6362618             0              0           0             0              1  \n",
       "6362619             0              1           0             0              0  \n",
       "\n",
       "[6362620 rows x 15 columns]"
      ]
     },
     "execution_count": 14,
     "metadata": {},
     "output_type": "execute_result"
    }
   ],
   "source": [
    "df = pd.get_dummies(df, columns=['type']) \n",
    "df"
   ]
  },
  {
   "cell_type": "markdown",
   "metadata": {},
   "source": [
    "Elimino el valor isFlaggedFraud"
   ]
  },
  {
   "cell_type": "code",
   "execution_count": 15,
   "metadata": {},
   "outputs": [],
   "source": [
    "df =  df[df.columns.drop('isFlaggedFraud')]"
   ]
  },
  {
   "cell_type": "markdown",
   "metadata": {},
   "source": [
    "Vemos que las clases están desbalanceadas"
   ]
  },
  {
   "cell_type": "code",
   "execution_count": 16,
   "metadata": {},
   "outputs": [
    {
     "data": {
      "text/plain": [
       "0    0.998709\n",
       "1    0.001291\n",
       "Name: isFraud, dtype: float64"
      ]
     },
     "execution_count": 16,
     "metadata": {},
     "output_type": "execute_result"
    }
   ],
   "source": [
    "df['isFraud'].value_counts(normalize=True)"
   ]
  },
  {
   "cell_type": "markdown",
   "metadata": {},
   "source": [
    "Defino X e y"
   ]
  },
  {
   "cell_type": "code",
   "execution_count": 17,
   "metadata": {},
   "outputs": [],
   "source": [
    "y = df['isFraud']\n",
    "X = df[df.columns.drop('isFraud')]"
   ]
  },
  {
   "cell_type": "markdown",
   "metadata": {},
   "source": [
    "Importancia de los features"
   ]
  },
  {
   "cell_type": "code",
   "execution_count": 18,
   "metadata": {},
   "outputs": [
    {
     "name": "stdout",
     "output_type": "stream",
     "text": [
      "Feature: step, Score: 0.05394\n",
      "Feature: amount, Score: 0.14899\n",
      "Feature: nameOrig, Score: 0.01283\n",
      "Feature: oldbalanceOrg, Score: 0.33023\n",
      "Feature: newbalanceOrig, Score: 0.04074\n",
      "Feature: nameDest, Score: 0.01240\n",
      "Feature: oldbalanceDest, Score: 0.09398\n",
      "Feature: newbalanceDest, Score: 0.29150\n",
      "Feature: type_CASH_IN, Score: 0.01251\n",
      "Feature: type_CASH_OUT, Score: 0.00074\n",
      "Feature: type_DEBIT, Score: 0.00000\n",
      "Feature: type_PAYMENT, Score: 0.00000\n",
      "Feature: type_TRANSFER, Score: 0.00213\n"
     ]
    },
    {
     "data": {
      "image/png": "[encoded data removed]",
      "text/plain": [
       "<Figure size 432x288 with 1 Axes>"
      ]
     },
     "metadata": {
      "needs_background": "light"
     },
     "output_type": "display_data"
    }
   ],
   "source": [
    "model = DecisionTreeRegressor()\n",
    "\n",
    "model.fit(X, y)\n",
    "importance = model.feature_importances_\n",
    "for i,v in zip(X.columns, importance):\n",
    "\tprint('Feature: %s, Score: %.5f' % (i,v))\n",
    "# plot feature importance\n",
    "pyplot.bar(list(X.columns), list(importance))\n",
    "pyplot.show()"
   ]
  },
  {
   "cell_type": "code",
   "execution_count": 26,
   "metadata": {},
   "outputs": [
    {
     "data": {
      "text/plain": [
       "['step', 'oldbalanceDest', 'amount', 'newbalanceDest', 'oldbalanceOrg']"
      ]
     },
     "execution_count": 26,
     "metadata": {},
     "output_type": "execute_result"
    }
   ],
   "source": [
    "important_columns = [x[0] for x in sorted(zip(X.columns, importance), key=lambda x: x[1])[8:]]\n",
    "important_columns"
   ]
  },
  {
   "cell_type": "code",
   "execution_count": 27,
   "metadata": {},
   "outputs": [
    {
     "data": {
      "text/plain": [
       "((4262955, 13), (2099665, 13))"
      ]
     },
     "execution_count": 27,
     "metadata": {},
     "output_type": "execute_result"
    }
   ],
   "source": [
    "X_train, X_test, y_train, y_test = train_test_split(X, y, test_size=0.33, random_state=14)\n",
    "X_train.shape, X_test.shape"
   ]
  },
  {
   "cell_type": "markdown",
   "metadata": {},
   "source": [
    "Verifico distribución de type en los tests"
   ]
  },
  {
   "cell_type": "code",
   "execution_count": 28,
   "metadata": {},
   "outputs": [
    {
     "name": "stdout",
     "output_type": "stream",
     "text": [
      "type_PAYMENT: 33.816683497714614\n",
      "type_TRANSFER: 8.377193754097803\n",
      "type_DEBIT: 0.651660643849161\n",
      "type_CASH_OUT: 35.18195711660104\n",
      "type_CASH_IN: 21.97250498773738\n"
     ]
    }
   ],
   "source": [
    "print(\"type_PAYMENT: \" + str((X_train.query(\"type_PAYMENT == 1\")['type_PAYMENT'].sum() / len(X_train['type_PAYMENT'])) * 100))\n",
    "print(\"type_TRANSFER: \" + str((X_train.query(\"type_TRANSFER == 1\")['type_TRANSFER'].sum() / len(X_train['type_PAYMENT'])) * 100))\n",
    "print(\"type_DEBIT: \" + str((X_train.query(\"type_DEBIT == 1\")['type_DEBIT'].sum() / len(X_train['type_PAYMENT'])) * 100))\n",
    "print(\"type_CASH_OUT: \" + str((X_train.query(\"type_CASH_OUT == 1\")['type_CASH_OUT'].sum() / len(X_train['type_PAYMENT'])) * 100))\n",
    "print(\"type_CASH_IN: \" + str((X_train.query(\"type_CASH_IN == 1\")['type_CASH_IN'].sum() / len(X_train['type_PAYMENT'])) * 100))"
   ]
  },
  {
   "cell_type": "code",
   "execution_count": 29,
   "metadata": {},
   "outputs": [
    {
     "name": "stdout",
     "output_type": "stream",
     "text": [
      "type_PAYMENT: 33.810393562782636\n",
      "type_TRANSFER: 8.372430840157834\n",
      "type_DEBIT: 0.6501989603103353\n",
      "type_CASH_OUT: 35.134604806004766\n",
      "type_CASH_IN: 22.03237183074443\n"
     ]
    }
   ],
   "source": [
    "print(\"type_PAYMENT: \" + str((X_test.query(\"type_PAYMENT == 1\")['type_PAYMENT'].sum() / len(X_test['type_PAYMENT'])) * 100))\n",
    "print(\"type_TRANSFER: \" + str((X_test.query(\"type_TRANSFER == 1\")['type_TRANSFER'].sum() / len(X_test['type_PAYMENT'])) * 100))\n",
    "print(\"type_DEBIT: \" + str((X_test.query(\"type_DEBIT == 1\")['type_DEBIT'].sum() / len(X_test['type_PAYMENT'])) * 100))\n",
    "print(\"type_CASH_OUT: \" + str((X_test.query(\"type_CASH_OUT == 1\")['type_CASH_OUT'].sum() / len(X_test['type_PAYMENT'])) * 100))\n",
    "print(\"type_CASH_IN: \" + str((X_test.query(\"type_CASH_IN == 1\")['type_CASH_IN'].sum() / len(X_test['type_PAYMENT'])) * 100))"
   ]
  },
  {
   "cell_type": "markdown",
   "metadata": {},
   "source": [
    "Oversampling"
   ]
  },
  {
   "cell_type": "markdown",
   "metadata": {},
   "source": [
    "SMOTE"
   ]
  },
  {
   "cell_type": "code",
   "execution_count": 30,
   "metadata": {},
   "outputs": [
    {
     "name": "stdout",
     "output_type": "stream",
     "text": [
      "Training target statistics: Counter({0: 4257537, 1: 4257537})\n",
      "Testing target statistics: Counter({0: 2096870, 1: 2795})\n"
     ]
    }
   ],
   "source": [
    "over_sampler = SMOTE(k_neighbors=2)\n",
    "X_res, y_res = over_sampler.fit_resample(X_train, y_train)\n",
    "print(f\"Training target statistics: {Counter(y_res)}\")\n",
    "print(f\"Testing target statistics: {Counter(y_test)}\")"
   ]
  },
  {
   "cell_type": "markdown",
   "metadata": {},
   "source": [
    "Learning.."
   ]
  },
  {
   "cell_type": "code",
   "execution_count": 33,
   "metadata": {},
   "outputs": [
    {
     "name": "stdout",
     "output_type": "stream",
     "text": [
      "LinearSVC\n",
      "scaled\n"
     ]
    },
    {
     "name": "stderr",
     "output_type": "stream",
     "text": [
      "/Users/ezefernandez/opt/anaconda3/lib/python3.9/site-packages/sklearn/svm/_base.py:1225: ConvergenceWarning: Liblinear failed to converge, increase the number of iterations.\n",
      "  warnings.warn(\n"
     ]
    },
    {
     "data": {
      "image/png": "[encoded data removed]",
      "text/plain": [
       "<Figure size 432x288 with 2 Axes>"
      ]
     },
     "metadata": {
      "needs_background": "light"
     },
     "output_type": "display_data"
    },
    {
     "name": "stdout",
     "output_type": "stream",
     "text": [
      "LinearSVC\n",
      "stratify_scaled\n"
     ]
    },
    {
     "name": "stderr",
     "output_type": "stream",
     "text": [
      "/Users/ezefernandez/opt/anaconda3/lib/python3.9/site-packages/sklearn/svm/_base.py:1225: ConvergenceWarning: Liblinear failed to converge, increase the number of iterations.\n",
      "  warnings.warn(\n"
     ]
    },
    {
     "data": {
      "image/png": "[encoded data removed]",
      "text/plain": [
       "<Figure size 432x288 with 2 Axes>"
      ]
     },
     "metadata": {
      "needs_background": "light"
     },
     "output_type": "display_data"
    },
    {
     "name": "stdout",
     "output_type": "stream",
     "text": [
      "LinearSVC\n",
      "smote\n"
     ]
    },
    {
     "name": "stderr",
     "output_type": "stream",
     "text": [
      "/Users/ezefernandez/opt/anaconda3/lib/python3.9/site-packages/sklearn/svm/_base.py:1225: ConvergenceWarning: Liblinear failed to converge, increase the number of iterations.\n",
      "  warnings.warn(\n"
     ]
    },
    {
     "data": {
      "image/png": "[encoded data removed]",
      "text/plain": [
       "<Figure size 432x288 with 2 Axes>"
      ]
     },
     "metadata": {
      "needs_background": "light"
     },
     "output_type": "display_data"
    },
    {
     "name": "stdout",
     "output_type": "stream",
     "text": [
      "LogisticRegressionCV\n",
      "normal\n"
     ]
    },
    {
     "name": "stderr",
     "output_type": "stream",
     "text": [
      "/Users/ezefernandez/opt/anaconda3/lib/python3.9/site-packages/sklearn/linear_model/_logistic.py:444: ConvergenceWarning: lbfgs failed to converge (status=1):\n",
      "STOP: TOTAL NO. of ITERATIONS REACHED LIMIT.\n",
      "\n",
      "Increase the number of iterations (max_iter) or scale the data as shown in:\n",
      "    https://scikit-learn.org/stable/modules/preprocessing.html\n",
      "Please also refer to the documentation for alternative solver options:\n",
      "    https://scikit-learn.org/stable/modules/linear_model.html#logistic-regression\n",
      "  n_iter_i = _check_optimize_result(\n",
      "/Users/ezefernandez/opt/anaconda3/lib/python3.9/site-packages/sklearn/linear_model/_logistic.py:444: ConvergenceWarning: lbfgs failed to converge (status=1):\n",
      "STOP: TOTAL NO. of ITERATIONS REACHED LIMIT.\n",
      "\n",
      "Increase the number of iterations (max_iter) or scale the data as shown in:\n",
      "    https://scikit-learn.org/stable/modules/preprocessing.html\n",
      "Please also refer to the documentation for alternative solver options:\n",
      "    https://scikit-learn.org/stable/modules/linear_model.html#logistic-regression\n",
      "  n_iter_i = _check_optimize_result(\n",
      "/Users/ezefernandez/opt/anaconda3/lib/python3.9/site-packages/sklearn/linear_model/_logistic.py:444: ConvergenceWarning: lbfgs failed to converge (status=1):\n",
      "STOP: TOTAL NO. of ITERATIONS REACHED LIMIT.\n",
      "\n",
      "Increase the number of iterations (max_iter) or scale the data as shown in:\n",
      "    https://scikit-learn.org/stable/modules/preprocessing.html\n",
      "Please also refer to the documentation for alternative solver options:\n",
      "    https://scikit-learn.org/stable/modules/linear_model.html#logistic-regression\n",
      "  n_iter_i = _check_optimize_result(\n",
      "/Users/ezefernandez/opt/anaconda3/lib/python3.9/site-packages/sklearn/linear_model/_logistic.py:444: ConvergenceWarning: lbfgs failed to converge (status=1):\n",
      "STOP: TOTAL NO. of ITERATIONS REACHED LIMIT.\n",
      "\n",
      "Increase the number of iterations (max_iter) or scale the data as shown in:\n",
      "    https://scikit-learn.org/stable/modules/preprocessing.html\n",
      "Please also refer to the documentation for alternative solver options:\n",
      "    https://scikit-learn.org/stable/modules/linear_model.html#logistic-regression\n",
      "  n_iter_i = _check_optimize_result(\n",
      "/Users/ezefernandez/opt/anaconda3/lib/python3.9/site-packages/sklearn/linear_model/_logistic.py:444: ConvergenceWarning: lbfgs failed to converge (status=1):\n",
      "STOP: TOTAL NO. of ITERATIONS REACHED LIMIT.\n",
      "\n",
      "Increase the number of iterations (max_iter) or scale the data as shown in:\n",
      "    https://scikit-learn.org/stable/modules/preprocessing.html\n",
      "Please also refer to the documentation for alternative solver options:\n",
      "    https://scikit-learn.org/stable/modules/linear_model.html#logistic-regression\n",
      "  n_iter_i = _check_optimize_result(\n"
     ]
    },
    {
     "data": {
      "image/png": "[encoded data removed]",
      "text/plain": [
       "<Figure size 432x288 with 2 Axes>"
      ]
     },
     "metadata": {
      "needs_background": "light"
     },
     "output_type": "display_data"
    },
    {
     "name": "stdout",
     "output_type": "stream",
     "text": [
      "LogisticRegressionCV\n",
      "normal_important_columns\n"
     ]
    },
    {
     "data": {
      "image/png": "[encoded data removed]",
      "text/plain": [
       "<Figure size 432x288 with 2 Axes>"
      ]
     },
     "metadata": {
      "needs_background": "light"
     },
     "output_type": "display_data"
    },
    {
     "name": "stdout",
     "output_type": "stream",
     "text": [
      "LogisticRegressionCV\n",
      "smote\n"
     ]
    },
    {
     "name": "stderr",
     "output_type": "stream",
     "text": [
      "/Users/ezefernandez/opt/anaconda3/lib/python3.9/site-packages/sklearn/linear_model/_logistic.py:444: ConvergenceWarning: lbfgs failed to converge (status=1):\n",
      "STOP: TOTAL NO. of ITERATIONS REACHED LIMIT.\n",
      "\n",
      "Increase the number of iterations (max_iter) or scale the data as shown in:\n",
      "    https://scikit-learn.org/stable/modules/preprocessing.html\n",
      "Please also refer to the documentation for alternative solver options:\n",
      "    https://scikit-learn.org/stable/modules/linear_model.html#logistic-regression\n",
      "  n_iter_i = _check_optimize_result(\n",
      "/Users/ezefernandez/opt/anaconda3/lib/python3.9/site-packages/sklearn/linear_model/_logistic.py:444: ConvergenceWarning: lbfgs failed to converge (status=1):\n",
      "STOP: TOTAL NO. of ITERATIONS REACHED LIMIT.\n",
      "\n",
      "Increase the number of iterations (max_iter) or scale the data as shown in:\n",
      "    https://scikit-learn.org/stable/modules/preprocessing.html\n",
      "Please also refer to the documentation for alternative solver options:\n",
      "    https://scikit-learn.org/stable/modules/linear_model.html#logistic-regression\n",
      "  n_iter_i = _check_optimize_result(\n",
      "/Users/ezefernandez/opt/anaconda3/lib/python3.9/site-packages/sklearn/linear_model/_logistic.py:444: ConvergenceWarning: lbfgs failed to converge (status=1):\n",
      "STOP: TOTAL NO. of ITERATIONS REACHED LIMIT.\n",
      "\n",
      "Increase the number of iterations (max_iter) or scale the data as shown in:\n",
      "    https://scikit-learn.org/stable/modules/preprocessing.html\n",
      "Please also refer to the documentation for alternative solver options:\n",
      "    https://scikit-learn.org/stable/modules/linear_model.html#logistic-regression\n",
      "  n_iter_i = _check_optimize_result(\n",
      "/Users/ezefernandez/opt/anaconda3/lib/python3.9/site-packages/sklearn/linear_model/_logistic.py:444: ConvergenceWarning: lbfgs failed to converge (status=1):\n",
      "STOP: TOTAL NO. of ITERATIONS REACHED LIMIT.\n",
      "\n",
      "Increase the number of iterations (max_iter) or scale the data as shown in:\n",
      "    https://scikit-learn.org/stable/modules/preprocessing.html\n",
      "Please also refer to the documentation for alternative solver options:\n",
      "    https://scikit-learn.org/stable/modules/linear_model.html#logistic-regression\n",
      "  n_iter_i = _check_optimize_result(\n"
     ]
    },
    {
     "data": {
      "image/png": "[encoded data removed]",
      "text/plain": [
       "<Figure size 432x288 with 2 Axes>"
      ]
     },
     "metadata": {
      "needs_background": "light"
     },
     "output_type": "display_data"
    },
    {
     "name": "stdout",
     "output_type": "stream",
     "text": [
      "LogisticRegressionCV\n",
      "smote_important_columns\n"
     ]
    },
    {
     "data": {
      "image/png": "[encoded data removed]",
      "text/plain": [
       "<Figure size 432x288 with 2 Axes>"
      ]
     },
     "metadata": {
      "needs_background": "light"
     },
     "output_type": "display_data"
    },
    {
     "name": "stdout",
     "output_type": "stream",
     "text": [
      "LogisticRegressionCV_class_weight\n",
      "normal\n"
     ]
    },
    {
     "name": "stderr",
     "output_type": "stream",
     "text": [
      "/Users/ezefernandez/opt/anaconda3/lib/python3.9/site-packages/sklearn/linear_model/_logistic.py:444: ConvergenceWarning: lbfgs failed to converge (status=1):\n",
      "STOP: TOTAL NO. of ITERATIONS REACHED LIMIT.\n",
      "\n",
      "Increase the number of iterations (max_iter) or scale the data as shown in:\n",
      "    https://scikit-learn.org/stable/modules/preprocessing.html\n",
      "Please also refer to the documentation for alternative solver options:\n",
      "    https://scikit-learn.org/stable/modules/linear_model.html#logistic-regression\n",
      "  n_iter_i = _check_optimize_result(\n",
      "/Users/ezefernandez/opt/anaconda3/lib/python3.9/site-packages/sklearn/linear_model/_logistic.py:444: ConvergenceWarning: lbfgs failed to converge (status=1):\n",
      "STOP: TOTAL NO. of ITERATIONS REACHED LIMIT.\n",
      "\n",
      "Increase the number of iterations (max_iter) or scale the data as shown in:\n",
      "    https://scikit-learn.org/stable/modules/preprocessing.html\n",
      "Please also refer to the documentation for alternative solver options:\n",
      "    https://scikit-learn.org/stable/modules/linear_model.html#logistic-regression\n",
      "  n_iter_i = _check_optimize_result(\n",
      "/Users/ezefernandez/opt/anaconda3/lib/python3.9/site-packages/sklearn/linear_model/_logistic.py:444: ConvergenceWarning: lbfgs failed to converge (status=1):\n",
      "STOP: TOTAL NO. of ITERATIONS REACHED LIMIT.\n",
      "\n",
      "Increase the number of iterations (max_iter) or scale the data as shown in:\n",
      "    https://scikit-learn.org/stable/modules/preprocessing.html\n",
      "Please also refer to the documentation for alternative solver options:\n",
      "    https://scikit-learn.org/stable/modules/linear_model.html#logistic-regression\n",
      "  n_iter_i = _check_optimize_result(\n",
      "/Users/ezefernandez/opt/anaconda3/lib/python3.9/site-packages/sklearn/linear_model/_logistic.py:444: ConvergenceWarning: lbfgs failed to converge (status=1):\n",
      "STOP: TOTAL NO. of ITERATIONS REACHED LIMIT.\n",
      "\n",
      "Increase the number of iterations (max_iter) or scale the data as shown in:\n",
      "    https://scikit-learn.org/stable/modules/preprocessing.html\n",
      "Please also refer to the documentation for alternative solver options:\n",
      "    https://scikit-learn.org/stable/modules/linear_model.html#logistic-regression\n",
      "  n_iter_i = _check_optimize_result(\n"
     ]
    },
    {
     "data": {
      "image/png": "[encoded data removed]",
      "text/plain": [
       "<Figure size 432x288 with 2 Axes>"
      ]
     },
     "metadata": {
      "needs_background": "light"
     },
     "output_type": "display_data"
    },
    {
     "name": "stdout",
     "output_type": "stream",
     "text": [
      "LogisticRegressionCV_class_weight\n",
      "normal_important_columns\n"
     ]
    },
    {
     "data": {
      "image/png": "[encoded data removed]",
      "text/plain": [
       "<Figure size 432x288 with 2 Axes>"
      ]
     },
     "metadata": {
      "needs_background": "light"
     },
     "output_type": "display_data"
    },
    {
     "name": "stdout",
     "output_type": "stream",
     "text": [
      "LogisticRegressionCV_class_weight\n",
      "smote\n"
     ]
    },
    {
     "name": "stderr",
     "output_type": "stream",
     "text": [
      "/Users/ezefernandez/opt/anaconda3/lib/python3.9/site-packages/sklearn/linear_model/_logistic.py:444: ConvergenceWarning: lbfgs failed to converge (status=1):\n",
      "STOP: TOTAL NO. of ITERATIONS REACHED LIMIT.\n",
      "\n",
      "Increase the number of iterations (max_iter) or scale the data as shown in:\n",
      "    https://scikit-learn.org/stable/modules/preprocessing.html\n",
      "Please also refer to the documentation for alternative solver options:\n",
      "    https://scikit-learn.org/stable/modules/linear_model.html#logistic-regression\n",
      "  n_iter_i = _check_optimize_result(\n",
      "/Users/ezefernandez/opt/anaconda3/lib/python3.9/site-packages/sklearn/linear_model/_logistic.py:444: ConvergenceWarning: lbfgs failed to converge (status=1):\n",
      "STOP: TOTAL NO. of ITERATIONS REACHED LIMIT.\n",
      "\n",
      "Increase the number of iterations (max_iter) or scale the data as shown in:\n",
      "    https://scikit-learn.org/stable/modules/preprocessing.html\n",
      "Please also refer to the documentation for alternative solver options:\n",
      "    https://scikit-learn.org/stable/modules/linear_model.html#logistic-regression\n",
      "  n_iter_i = _check_optimize_result(\n",
      "/Users/ezefernandez/opt/anaconda3/lib/python3.9/site-packages/sklearn/linear_model/_logistic.py:444: ConvergenceWarning: lbfgs failed to converge (status=1):\n",
      "STOP: TOTAL NO. of ITERATIONS REACHED LIMIT.\n",
      "\n",
      "Increase the number of iterations (max_iter) or scale the data as shown in:\n",
      "    https://scikit-learn.org/stable/modules/preprocessing.html\n",
      "Please also refer to the documentation for alternative solver options:\n",
      "    https://scikit-learn.org/stable/modules/linear_model.html#logistic-regression\n",
      "  n_iter_i = _check_optimize_result(\n",
      "/Users/ezefernandez/opt/anaconda3/lib/python3.9/site-packages/sklearn/linear_model/_logistic.py:444: ConvergenceWarning: lbfgs failed to converge (status=1):\n",
      "STOP: TOTAL NO. of ITERATIONS REACHED LIMIT.\n",
      "\n",
      "Increase the number of iterations (max_iter) or scale the data as shown in:\n",
      "    https://scikit-learn.org/stable/modules/preprocessing.html\n",
      "Please also refer to the documentation for alternative solver options:\n",
      "    https://scikit-learn.org/stable/modules/linear_model.html#logistic-regression\n",
      "  n_iter_i = _check_optimize_result(\n"
     ]
    },
    {
     "data": {
      "image/png": "[encoded data removed]",
      "text/plain": [
       "<Figure size 432x288 with 2 Axes>"
      ]
     },
     "metadata": {
      "needs_background": "light"
     },
     "output_type": "display_data"
    },
    {
     "name": "stdout",
     "output_type": "stream",
     "text": [
      "LogisticRegressionCV_class_weight\n",
      "smote_important_columns\n"
     ]
    },
    {
     "data": {
      "image/png": "[encoded data removed]",
      "text/plain": [
       "<Figure size 432x288 with 2 Axes>"
      ]
     },
     "metadata": {
      "needs_background": "light"
     },
     "output_type": "display_data"
    },
    {
     "name": "stdout",
     "output_type": "stream",
     "text": [
      "RandomForest\n",
      "normal\n"
     ]
    },
    {
     "data": {
      "image/png": "[encoded data removed]",
      "text/plain": [
       "<Figure size 432x288 with 2 Axes>"
      ]
     },
     "metadata": {
      "needs_background": "light"
     },
     "output_type": "display_data"
    },
    {
     "name": "stdout",
     "output_type": "stream",
     "text": [
      "RandomForest\n",
      "normal_important_columns\n"
     ]
    },
    {
     "data": {
      "image/png": "[encoded data removed]",
      "text/plain": [
       "<Figure size 432x288 with 2 Axes>"
      ]
     },
     "metadata": {
      "needs_background": "light"
     },
     "output_type": "display_data"
    },
    {
     "name": "stdout",
     "output_type": "stream",
     "text": [
      "RandomForest\n",
      "smote\n"
     ]
    },
    {
     "data": {
      "image/png": "[encoded data removed]",
      "text/plain": [
       "<Figure size 432x288 with 2 Axes>"
      ]
     },
     "metadata": {
      "needs_background": "light"
     },
     "output_type": "display_data"
    },
    {
     "name": "stdout",
     "output_type": "stream",
     "text": [
      "RandomForest\n",
      "smote_important_columns\n"
     ]
    },
    {
     "data": {
      "image/png": "[encoded data removed]",
      "text/plain": [
       "<Figure size 432x288 with 2 Axes>"
      ]
     },
     "metadata": {
      "needs_background": "light"
     },
     "output_type": "display_data"
    },
    {
     "name": "stdout",
     "output_type": "stream",
     "text": [
      "RandomForest_class_weight\n",
      "normal\n"
     ]
    },
    {
     "data": {
      "image/png": "[encoded data removed]",
      "text/plain": [
       "<Figure size 432x288 with 2 Axes>"
      ]
     },
     "metadata": {
      "needs_background": "light"
     },
     "output_type": "display_data"
    },
    {
     "name": "stdout",
     "output_type": "stream",
     "text": [
      "RandomForest_class_weight\n",
      "normal_important_columns\n"
     ]
    },
    {
     "data": {
      "image/png": "[encoded data removed]",
      "text/plain": [
       "<Figure size 432x288 with 2 Axes>"
      ]
     },
     "metadata": {
      "needs_background": "light"
     },
     "output_type": "display_data"
    },
    {
     "name": "stdout",
     "output_type": "stream",
     "text": [
      "RandomForest_class_weight\n",
      "smote\n"
     ]
    },
    {
     "data": {
      "image/png": "[encoded data removed]",
      "text/plain": [
       "<Figure size 432x288 with 2 Axes>"
      ]
     },
     "metadata": {
      "needs_background": "light"
     },
     "output_type": "display_data"
    },
    {
     "name": "stdout",
     "output_type": "stream",
     "text": [
      "RandomForest_class_weight\n",
      "smote_important_columns\n"
     ]
    },
    {
     "data": {
      "image/png": "[encoded data removed]",
      "text/plain": [
       "<Figure size 432x288 with 2 Axes>"
      ]
     },
     "metadata": {
      "needs_background": "light"
     },
     "output_type": "display_data"
    },
    {
     "name": "stdout",
     "output_type": "stream",
     "text": [
      "                                  normal_accuracy_score        normal_gain  \\\n",
      "LogisticRegressionCV                           0.999092  74730505308.62975   \n",
      "LogisticRegressionCV_class_weight              0.946533  71378524968.47813   \n",
      "RandomForest                                   0.999667  74692928819.54167   \n",
      "RandomForest_class_weight                       0.99965  74695455966.25963   \n",
      "\n",
      "                                  normalscore  \\\n",
      "LogisticRegressionCV                 0.999092   \n",
      "LogisticRegressionCV_class_weight    0.946533   \n",
      "RandomForest                         0.999667   \n",
      "RandomForest_class_weight             0.99965   \n",
      "\n",
      "                                             normalconfusion_matrix  \\\n",
      "LogisticRegressionCV                 [[2096560, 310], [1597, 1198]]   \n",
      "LogisticRegressionCV_class_weight  [[1984805, 112065], [197, 2598]]   \n",
      "RandomForest                           [[2096845, 25], [675, 2120]]   \n",
      "RandomForest_class_weight              [[2096850, 20], [715, 2080]]   \n",
      "\n",
      "                                  normal_important_columns_accuracy_score  \\\n",
      "LogisticRegressionCV                                             0.998411   \n",
      "LogisticRegressionCV_class_weight                                 0.39857   \n",
      "RandomForest                                                     0.999399   \n",
      "RandomForest_class_weight                                        0.999391   \n",
      "\n",
      "                                  normal_important_columns_gain  \\\n",
      "LogisticRegressionCV                          75339620797.85567   \n",
      "LogisticRegressionCV_class_weight            20097820314.424118   \n",
      "RandomForest                                  74712828883.57365   \n",
      "RandomForest_class_weight                     74715503438.24371   \n",
      "\n",
      "                                  normal_important_columnsscore  \\\n",
      "LogisticRegressionCV                                   0.998411   \n",
      "LogisticRegressionCV_class_weight                       0.39857   \n",
      "RandomForest                                           0.999399   \n",
      "RandomForest_class_weight                              0.999391   \n",
      "\n",
      "                                  normal_important_columnsconfusion_matrix  \\\n",
      "LogisticRegressionCV                          [[2096271, 599], [2738, 57]]   \n",
      "LogisticRegressionCV_class_weight         [[834332, 1262538], [264, 2531]]   \n",
      "RandomForest                                 [[2096803, 67], [1195, 1600]]   \n",
      "RandomForest_class_weight                    [[2096802, 68], [1211, 1584]]   \n",
      "\n",
      "                                  smote_accuracy_score         smote_gain  \\\n",
      "LogisticRegressionCV                          0.950071  71673142748.13261   \n",
      "LogisticRegressionCV_class_weight             0.950071  71673142748.13261   \n",
      "RandomForest                                  0.999431   74647134257.4634   \n",
      "RandomForest_class_weight                     0.999431   74647134257.4634   \n",
      "\n",
      "                                  smotescore  \\\n",
      "LogisticRegressionCV                0.950071   \n",
      "LogisticRegressionCV_class_weight   0.950071   \n",
      "RandomForest                        0.999431   \n",
      "RandomForest_class_weight           0.999431   \n",
      "\n",
      "                                              smoteconfusion_matrix  \\\n",
      "LogisticRegressionCV               [[1992214, 104656], [178, 2617]]   \n",
      "LogisticRegressionCV_class_weight  [[1992214, 104656], [178, 2617]]   \n",
      "RandomForest                          [[2095925, 945], [250, 2545]]   \n",
      "RandomForest_class_weight             [[2095925, 945], [250, 2545]]   \n",
      "\n",
      "                                  smote_important_columns_accuracy_score  \\\n",
      "LogisticRegressionCV                                            0.403072   \n",
      "LogisticRegressionCV_class_weight                               0.403072   \n",
      "RandomForest                                                    0.997127   \n",
      "RandomForest_class_weight                                       0.997127   \n",
      "\n",
      "                                  smote_important_columns_gain  \\\n",
      "LogisticRegressionCV                         20736772970.88378   \n",
      "LogisticRegressionCV_class_weight            20736772970.88378   \n",
      "RandomForest                                 74543391763.07759   \n",
      "RandomForest_class_weight                    74543391763.07759   \n",
      "\n",
      "                                  smote_important_columnsscore  \\\n",
      "LogisticRegressionCV                                  0.403072   \n",
      "LogisticRegressionCV_class_weight                     0.403072   \n",
      "RandomForest                                          0.997127   \n",
      "RandomForest_class_weight                             0.997127   \n",
      "\n",
      "                                  smote_important_columnsconfusion_matrix  \n",
      "LogisticRegressionCV                     [[843792, 1253078], [270, 2525]]  \n",
      "LogisticRegressionCV_class_weight        [[843792, 1253078], [270, 2525]]  \n",
      "RandomForest                               [[2091127, 5743], [289, 2506]]  \n",
      "RandomForest_class_weight                  [[2091127, 5743], [289, 2506]]  \n",
      "          scaled_accuracy_score        scaled_gain  \\\n",
      "LinearSVC              0.999149  74762808925.01389   \n",
      "\n",
      "                  scaledconfusion_matrix scaledscore smote_accuracy_score  \\\n",
      "LinearSVC  [[2096840, 30], [1756, 1039]]    0.999149             0.945933   \n",
      "\n",
      "                  smote_gain            smoteconfusion_matrix smotescore  \\\n",
      "LinearSVC  72252310417.41136  [[1983444, 113426], [96, 2699]]   0.945933   \n",
      "\n",
      "          stratify_scaled_accuracy_score stratify_scaled_gain  \\\n",
      "LinearSVC                       0.999195    57103150306.73123   \n",
      "\n",
      "          stratify_scaledconfusion_matrix stratify_scaledscore  \n",
      "LinearSVC    [[1588573, 29], [1252, 801]]             0.999195  \n"
     ]
    }
   ],
   "source": [
    "# Modelos a ensayar.\n",
    "models = [\n",
    "    (\"LogisticRegressionCV\", LogisticRegressionCV(random_state=42, solver='lbfgs', max_iter=100)),\n",
    "    (\"LogisticRegressionCV_class_weight\", LogisticRegressionCV(random_state=42, solver='lbfgs', max_iter=100, class_weight='balanced')),\n",
    "    (\"RandomForest\", RandomForestClassifier(n_estimators=100, random_state=42)),\n",
    "    (\"RandomForest_class_weight\", RandomForestClassifier(n_estimators=100, random_state=42, class_weight='balanced'))\n",
    "    \n",
    "]\n",
    "models_svc = [\n",
    "    (\"LinearSVC\", LinearSVC(random_state=42, tol=1e-5,max_iter=100))\n",
    "]\n",
    "\n",
    "scaler = StandardScaler()\n",
    "X_train_scaled = scaler.fit_transform(X_train)\n",
    "X_test_scaled = scaler.fit_transform(X_test)\n",
    "\n",
    "X_train_stratify, X_test_stratify, y_train_stratify, y_test_stratify = train_test_split(X, y, test_size=0.25, random_state=23,stratify=y)\n",
    "X_train_stratify_scaled = scaler.fit_transform(X_train_stratify)\n",
    "X_test_stratify_scaled = scaler.fit_transform(X_test_stratify)\n",
    "\n",
    "# Aquí almacenaremos los resultados.\n",
    "results = {}\n",
    "models_trained = {}\n",
    "results_svc = {}\n",
    "models_trained_svc = {}\n",
    "\n",
    "# Etrenamos cada modelo svc y almacenamos los resultados.\n",
    "for m in models_svc:\n",
    "    model_name = m[0]\n",
    "    results_svc[model_name] = {}\n",
    "    models_trained_svc[model_name] = {}\n",
    "    model = clone(m[1])\n",
    "    \n",
    "    scenario = \"scaled\"\n",
    "    print(model_name)\n",
    "    print(scenario)\n",
    "    model.fit(X_train_scaled, y_train)\n",
    "    predictions = model.predict(X_test_scaled)\n",
    "    acc = accuracy_score(y_test, predictions)\n",
    "    results_svc[model_name][scenario + \"_accuracy_score\"] = acc\n",
    "    ganancia = gain(predictions, y_test, X_test['amount'])\n",
    "    results_svc[model_name][scenario + \"_gain\"] = str(ganancia)\n",
    "    results_svc[model_name][scenario + \"score\"] = model.score(X_test_scaled,y_test)\n",
    "    models_trained_svc[model_name][scenario] = model\n",
    "    conf_matrix = confusion_matrix(y_test, predictions)\n",
    "    results_svc[model_name][scenario + \"confusion_matrix\"] = conf_matrix\n",
    "    sns.heatmap(conf_matrix, annot=True)\n",
    "    plt.ylabel('Verdaderos')\n",
    "    plt.xlabel('Predichos')\n",
    "    plt.show()\n",
    "\n",
    "    scenario = \"stratify_scaled\"\n",
    "    print(model_name)\n",
    "    print(scenario)\n",
    "    model.fit(X_train_stratify_scaled, y_train_stratify)\n",
    "    predictions = model.predict(X_test_stratify_scaled)\n",
    "    acc = accuracy_score(y_test_stratify, predictions)\n",
    "    results_svc[model_name][scenario + \"_accuracy_score\"] = accuracy_score(y_test_stratify, predictions)\n",
    "    ganancia = gain(predictions, y_test, X_test['amount'])\n",
    "    results_svc[model_name][scenario + \"_gain\"] = str(ganancia)\n",
    "    results_svc[model_name][scenario + \"score\"] = model.score(X_test_stratify_scaled,y_test_stratify)\n",
    "    models_trained_svc[model_name][scenario] = model\n",
    "    results_svc[model_name][scenario + \"confusion_matrix\"] = confusion_matrix(y_test_stratify, predictions)\n",
    "    sns.heatmap(confusion_matrix(y_test_stratify, predictions), annot=True)\n",
    "    plt.ylabel('Verdaderos')\n",
    "    plt.xlabel('Predichos')\n",
    "    plt.show()\n",
    "    \n",
    "    scenario = \"smote\"\n",
    "    print(model_name)\n",
    "    print(scenario)\n",
    "    model.fit(X_res, y_res)\n",
    "    predictions = model.predict(X_test)\n",
    "    acc = accuracy_score(y_test, predictions)\n",
    "    results_svc[model_name][scenario + \"_accuracy_score\"] = acc\n",
    "    ganancia = gain(predictions, y_test, X_test['amount'])\n",
    "    results_svc[model_name][scenario + \"_gain\"] = str(ganancia)\n",
    "    results_svc[model_name][scenario + \"score\"] = model.score(X_test,y_test)\n",
    "    models_trained_svc[model_name][scenario] = model\n",
    "    conf_matrix = confusion_matrix(y_test, predictions)\n",
    "    results_svc[model_name][scenario + \"confusion_matrix\"] = conf_matrix\n",
    "    sns.heatmap(conf_matrix, annot=True)\n",
    "    plt.ylabel('Verdaderos')\n",
    "    plt.xlabel('Predichos')\n",
    "    plt.show()\n",
    "    \n",
    "# Etrenamos cada modelo y almacenamos los resultados.\n",
    "for m in models:\n",
    "    model_name = m[0]\n",
    "    results[model_name] = {}\n",
    "    models_trained[model_name] = {}\n",
    "    model = clone(m[1])\n",
    "    \n",
    "    scenario = \"normal\"\n",
    "    print(model_name)\n",
    "    print(scenario)\n",
    "    model.fit(X_train, y_train)\n",
    "    predictions = model.predict(X_test)\n",
    "    ganancia = gain(predictions, y_test, X_test['amount'])\n",
    "    acc = accuracy_score(y_test, predictions)\n",
    "    results[model_name][scenario + \"_accuracy_score\"] = acc\n",
    "    results[model_name][scenario + \"_gain\"] = str(ganancia)\n",
    "    results[model_name][scenario + \"score\"] = model.score(X_test,y_test)\n",
    "    models_trained[model_name][scenario] = model\n",
    "    conf_matrix = confusion_matrix(y_test, predictions)\n",
    "    results[model_name][scenario + \"confusion_matrix\"] = conf_matrix\n",
    "    sns.heatmap(conf_matrix, annot=True)\n",
    "    plt.ylabel('Verdaderos')\n",
    "    plt.xlabel('Predichos')\n",
    "    plt.show()\n",
    "    \n",
    "    scenario = \"normal_important_columns\"\n",
    "    print(model_name)\n",
    "    print(scenario)\n",
    "    model = clone(m[1])\n",
    "    model.fit(X_train[important_columns], y_train)\n",
    "    predictions = model.predict(X_test[important_columns])\n",
    "    acc = accuracy_score(y_test, predictions)\n",
    "    results[model_name][scenario + \"_accuracy_score\"] = acc\n",
    "    ganancia = gain(predictions, y_test, X_test['amount'])\n",
    "    results[model_name][scenario + \"_gain\"] = str(ganancia)\n",
    "    results[model_name][scenario + \"score\"] = model.score(X_test[important_columns],y_test)\n",
    "    models_trained[model_name][scenario] = model\n",
    "    conf_matrix = confusion_matrix(y_test, predictions)\n",
    "    results[model_name][scenario + \"confusion_matrix\"] = conf_matrix\n",
    "    sns.heatmap(conf_matrix, annot=True)\n",
    "    plt.ylabel('Verdaderos')\n",
    "    plt.xlabel('Predichos')\n",
    "    plt.show()\n",
    "\n",
    "    scenario = \"smote\"\n",
    "    print(model_name)\n",
    "    print(scenario)\n",
    "    model.fit(X_res, y_res)\n",
    "    predictions = model.predict(X_test)\n",
    "    acc = accuracy_score(y_test, predictions)\n",
    "    results[model_name][scenario + \"_accuracy_score\"] =acc = accuracy_score(y_test, predictions)\n",
    "    ganancia = gain(predictions, y_test, X_test['amount'])\n",
    "    results[model_name][scenario + \"_gain\"] = str(ganancia)\n",
    "    results[model_name][scenario + \"score\"] = model.score(X_test,y_test)\n",
    "    models_trained[model_name][scenario] = model\n",
    "    conf_matrix = confusion_matrix(y_test, predictions)\n",
    "    results[model_name][scenario + \"confusion_matrix\"] = conf_matrix\n",
    "    sns.heatmap(conf_matrix, annot=True)\n",
    "    plt.ylabel('Verdaderos')\n",
    "    plt.xlabel('Predichos')\n",
    "    plt.show()\n",
    "\n",
    "    scenario = \"smote_important_columns\"\n",
    "    print(model_name)\n",
    "    print(scenario)\n",
    "    model = clone(m[1])\n",
    "    model.fit(X_res[important_columns], y_res)\n",
    "    predictions = model.predict(X_test[important_columns])\n",
    "    acc = accuracy_score(y_test, predictions)\n",
    "    results[model_name][scenario + \"_accuracy_score\"] = acc\n",
    "    ganancia = gain(predictions, y_test, X_test['amount'])\n",
    "    results[model_name][scenario + \"_gain\"] = str(ganancia)\n",
    "    results[model_name][scenario + \"score\"] = model.score(X_test[important_columns],y_test)\n",
    "    models_trained[model_name][scenario] = model\n",
    "    conf_matrix = confusion_matrix(y_test, predictions)\n",
    "    results[model_name][scenario + \"confusion_matrix\"] = conf_matrix\n",
    "    sns.heatmap(conf_matrix, annot=True)\n",
    "    plt.ylabel('Verdaderos')\n",
    "    plt.xlabel('Predichos')\n",
    "    plt.show()\n",
    "\n",
    "df_results = pd.DataFrame(results).T\n",
    "print(df_results)\n",
    "\n",
    "df_results_svc = pd.DataFrame(results_svc).T\n",
    "print(df_results_svc)"
   ]
  },
  {
   "cell_type": "code",
   "execution_count": 34,
   "metadata": {},
   "outputs": [
    {
     "data": {
      "text/html": [
       "<div>\n",
       "<style scoped>\n",
       "    .dataframe tbody tr th:only-of-type {\n",
       "        vertical-align: middle;\n",
       "    }\n",
       "\n",
       "    .dataframe tbody tr th {\n",
       "        vertical-align: top;\n",
       "    }\n",
       "\n",
       "    .dataframe thead th {\n",
       "        text-align: right;\n",
       "    }\n",
       "</style>\n",
       "<table border=\"1\" class=\"dataframe\">\n",
       "  <thead>\n",
       "    <tr style=\"text-align: right;\">\n",
       "      <th></th>\n",
       "      <th>normal_accuracy_score</th>\n",
       "      <th>normal_gain</th>\n",
       "      <th>normalscore</th>\n",
       "      <th>normalconfusion_matrix</th>\n",
       "      <th>normal_important_columns_accuracy_score</th>\n",
       "      <th>normal_important_columns_gain</th>\n",
       "      <th>normal_important_columnsscore</th>\n",
       "      <th>normal_important_columnsconfusion_matrix</th>\n",
       "      <th>smote_accuracy_score</th>\n",
       "      <th>smote_gain</th>\n",
       "      <th>smotescore</th>\n",
       "      <th>smoteconfusion_matrix</th>\n",
       "      <th>smote_important_columns_accuracy_score</th>\n",
       "      <th>smote_important_columns_gain</th>\n",
       "      <th>smote_important_columnsscore</th>\n",
       "      <th>smote_important_columnsconfusion_matrix</th>\n",
       "    </tr>\n",
       "  </thead>\n",
       "  <tbody>\n",
       "    <tr>\n",
       "      <th>LogisticRegressionCV</th>\n",
       "      <td>0.999092</td>\n",
       "      <td>74730505308.62975</td>\n",
       "      <td>0.999092</td>\n",
       "      <td>[[2096560, 310], [1597, 1198]]</td>\n",
       "      <td>0.998411</td>\n",
       "      <td>75339620797.85567</td>\n",
       "      <td>0.998411</td>\n",
       "      <td>[[2096271, 599], [2738, 57]]</td>\n",
       "      <td>0.950071</td>\n",
       "      <td>71673142748.13261</td>\n",
       "      <td>0.950071</td>\n",
       "      <td>[[1992214, 104656], [178, 2617]]</td>\n",
       "      <td>0.403072</td>\n",
       "      <td>20736772970.88378</td>\n",
       "      <td>0.403072</td>\n",
       "      <td>[[843792, 1253078], [270, 2525]]</td>\n",
       "    </tr>\n",
       "    <tr>\n",
       "      <th>LogisticRegressionCV_class_weight</th>\n",
       "      <td>0.946533</td>\n",
       "      <td>71378524968.47813</td>\n",
       "      <td>0.946533</td>\n",
       "      <td>[[1984805, 112065], [197, 2598]]</td>\n",
       "      <td>0.39857</td>\n",
       "      <td>20097820314.424118</td>\n",
       "      <td>0.39857</td>\n",
       "      <td>[[834332, 1262538], [264, 2531]]</td>\n",
       "      <td>0.950071</td>\n",
       "      <td>71673142748.13261</td>\n",
       "      <td>0.950071</td>\n",
       "      <td>[[1992214, 104656], [178, 2617]]</td>\n",
       "      <td>0.403072</td>\n",
       "      <td>20736772970.88378</td>\n",
       "      <td>0.403072</td>\n",
       "      <td>[[843792, 1253078], [270, 2525]]</td>\n",
       "    </tr>\n",
       "    <tr>\n",
       "      <th>RandomForest</th>\n",
       "      <td>0.999667</td>\n",
       "      <td>74692928819.54167</td>\n",
       "      <td>0.999667</td>\n",
       "      <td>[[2096845, 25], [675, 2120]]</td>\n",
       "      <td>0.999399</td>\n",
       "      <td>74712828883.57365</td>\n",
       "      <td>0.999399</td>\n",
       "      <td>[[2096803, 67], [1195, 1600]]</td>\n",
       "      <td>0.999431</td>\n",
       "      <td>74647134257.4634</td>\n",
       "      <td>0.999431</td>\n",
       "      <td>[[2095925, 945], [250, 2545]]</td>\n",
       "      <td>0.997127</td>\n",
       "      <td>74543391763.07759</td>\n",
       "      <td>0.997127</td>\n",
       "      <td>[[2091127, 5743], [289, 2506]]</td>\n",
       "    </tr>\n",
       "    <tr>\n",
       "      <th>RandomForest_class_weight</th>\n",
       "      <td>0.99965</td>\n",
       "      <td>74695455966.25963</td>\n",
       "      <td>0.99965</td>\n",
       "      <td>[[2096850, 20], [715, 2080]]</td>\n",
       "      <td>0.999391</td>\n",
       "      <td>74715503438.24371</td>\n",
       "      <td>0.999391</td>\n",
       "      <td>[[2096802, 68], [1211, 1584]]</td>\n",
       "      <td>0.999431</td>\n",
       "      <td>74647134257.4634</td>\n",
       "      <td>0.999431</td>\n",
       "      <td>[[2095925, 945], [250, 2545]]</td>\n",
       "      <td>0.997127</td>\n",
       "      <td>74543391763.07759</td>\n",
       "      <td>0.997127</td>\n",
       "      <td>[[2091127, 5743], [289, 2506]]</td>\n",
       "    </tr>\n",
       "  </tbody>\n",
       "</table>\n",
       "</div>"
      ],
      "text/plain": [
       "                                  normal_accuracy_score        normal_gain  \\\n",
       "LogisticRegressionCV                           0.999092  74730505308.62975   \n",
       "LogisticRegressionCV_class_weight              0.946533  71378524968.47813   \n",
       "RandomForest                                   0.999667  74692928819.54167   \n",
       "RandomForest_class_weight                       0.99965  74695455966.25963   \n",
       "\n",
       "                                  normalscore  \\\n",
       "LogisticRegressionCV                 0.999092   \n",
       "LogisticRegressionCV_class_weight    0.946533   \n",
       "RandomForest                         0.999667   \n",
       "RandomForest_class_weight             0.99965   \n",
       "\n",
       "                                             normalconfusion_matrix  \\\n",
       "LogisticRegressionCV                 [[2096560, 310], [1597, 1198]]   \n",
       "LogisticRegressionCV_class_weight  [[1984805, 112065], [197, 2598]]   \n",
       "RandomForest                           [[2096845, 25], [675, 2120]]   \n",
       "RandomForest_class_weight              [[2096850, 20], [715, 2080]]   \n",
       "\n",
       "                                  normal_important_columns_accuracy_score  \\\n",
       "LogisticRegressionCV                                             0.998411   \n",
       "LogisticRegressionCV_class_weight                                 0.39857   \n",
       "RandomForest                                                     0.999399   \n",
       "RandomForest_class_weight                                        0.999391   \n",
       "\n",
       "                                  normal_important_columns_gain  \\\n",
       "LogisticRegressionCV                          75339620797.85567   \n",
       "LogisticRegressionCV_class_weight            20097820314.424118   \n",
       "RandomForest                                  74712828883.57365   \n",
       "RandomForest_class_weight                     74715503438.24371   \n",
       "\n",
       "                                  normal_important_columnsscore  \\\n",
       "LogisticRegressionCV                                   0.998411   \n",
       "LogisticRegressionCV_class_weight                       0.39857   \n",
       "RandomForest                                           0.999399   \n",
       "RandomForest_class_weight                              0.999391   \n",
       "\n",
       "                                  normal_important_columnsconfusion_matrix  \\\n",
       "LogisticRegressionCV                          [[2096271, 599], [2738, 57]]   \n",
       "LogisticRegressionCV_class_weight         [[834332, 1262538], [264, 2531]]   \n",
       "RandomForest                                 [[2096803, 67], [1195, 1600]]   \n",
       "RandomForest_class_weight                    [[2096802, 68], [1211, 1584]]   \n",
       "\n",
       "                                  smote_accuracy_score         smote_gain  \\\n",
       "LogisticRegressionCV                          0.950071  71673142748.13261   \n",
       "LogisticRegressionCV_class_weight             0.950071  71673142748.13261   \n",
       "RandomForest                                  0.999431   74647134257.4634   \n",
       "RandomForest_class_weight                     0.999431   74647134257.4634   \n",
       "\n",
       "                                  smotescore  \\\n",
       "LogisticRegressionCV                0.950071   \n",
       "LogisticRegressionCV_class_weight   0.950071   \n",
       "RandomForest                        0.999431   \n",
       "RandomForest_class_weight           0.999431   \n",
       "\n",
       "                                              smoteconfusion_matrix  \\\n",
       "LogisticRegressionCV               [[1992214, 104656], [178, 2617]]   \n",
       "LogisticRegressionCV_class_weight  [[1992214, 104656], [178, 2617]]   \n",
       "RandomForest                          [[2095925, 945], [250, 2545]]   \n",
       "RandomForest_class_weight             [[2095925, 945], [250, 2545]]   \n",
       "\n",
       "                                  smote_important_columns_accuracy_score  \\\n",
       "LogisticRegressionCV                                            0.403072   \n",
       "LogisticRegressionCV_class_weight                               0.403072   \n",
       "RandomForest                                                    0.997127   \n",
       "RandomForest_class_weight                                       0.997127   \n",
       "\n",
       "                                  smote_important_columns_gain  \\\n",
       "LogisticRegressionCV                         20736772970.88378   \n",
       "LogisticRegressionCV_class_weight            20736772970.88378   \n",
       "RandomForest                                 74543391763.07759   \n",
       "RandomForest_class_weight                    74543391763.07759   \n",
       "\n",
       "                                  smote_important_columnsscore  \\\n",
       "LogisticRegressionCV                                  0.403072   \n",
       "LogisticRegressionCV_class_weight                     0.403072   \n",
       "RandomForest                                          0.997127   \n",
       "RandomForest_class_weight                             0.997127   \n",
       "\n",
       "                                  smote_important_columnsconfusion_matrix  \n",
       "LogisticRegressionCV                     [[843792, 1253078], [270, 2525]]  \n",
       "LogisticRegressionCV_class_weight        [[843792, 1253078], [270, 2525]]  \n",
       "RandomForest                               [[2091127, 5743], [289, 2506]]  \n",
       "RandomForest_class_weight                  [[2091127, 5743], [289, 2506]]  "
      ]
     },
     "execution_count": 34,
     "metadata": {},
     "output_type": "execute_result"
    }
   ],
   "source": [
    "df_results"
   ]
  },
  {
   "cell_type": "code",
   "execution_count": 35,
   "metadata": {},
   "outputs": [
    {
     "data": {
      "text/html": [
       "<div>\n",
       "<style scoped>\n",
       "    .dataframe tbody tr th:only-of-type {\n",
       "        vertical-align: middle;\n",
       "    }\n",
       "\n",
       "    .dataframe tbody tr th {\n",
       "        vertical-align: top;\n",
       "    }\n",
       "\n",
       "    .dataframe thead th {\n",
       "        text-align: right;\n",
       "    }\n",
       "</style>\n",
       "<table border=\"1\" class=\"dataframe\">\n",
       "  <thead>\n",
       "    <tr style=\"text-align: right;\">\n",
       "      <th></th>\n",
       "      <th>scaled_accuracy_score</th>\n",
       "      <th>scaled_gain</th>\n",
       "      <th>scaledconfusion_matrix</th>\n",
       "      <th>scaledscore</th>\n",
       "      <th>smote_accuracy_score</th>\n",
       "      <th>smote_gain</th>\n",
       "      <th>smoteconfusion_matrix</th>\n",
       "      <th>smotescore</th>\n",
       "      <th>stratify_scaled_accuracy_score</th>\n",
       "      <th>stratify_scaled_gain</th>\n",
       "      <th>stratify_scaledconfusion_matrix</th>\n",
       "      <th>stratify_scaledscore</th>\n",
       "    </tr>\n",
       "  </thead>\n",
       "  <tbody>\n",
       "    <tr>\n",
       "      <th>LinearSVC</th>\n",
       "      <td>0.999149</td>\n",
       "      <td>74762808925.01389</td>\n",
       "      <td>[[2096840, 30], [1756, 1039]]</td>\n",
       "      <td>0.999149</td>\n",
       "      <td>0.945933</td>\n",
       "      <td>72252310417.41136</td>\n",
       "      <td>[[1983444, 113426], [96, 2699]]</td>\n",
       "      <td>0.945933</td>\n",
       "      <td>0.999195</td>\n",
       "      <td>57103150306.73123</td>\n",
       "      <td>[[1588573, 29], [1252, 801]]</td>\n",
       "      <td>0.999195</td>\n",
       "    </tr>\n",
       "  </tbody>\n",
       "</table>\n",
       "</div>"
      ],
      "text/plain": [
       "          scaled_accuracy_score        scaled_gain  \\\n",
       "LinearSVC              0.999149  74762808925.01389   \n",
       "\n",
       "                  scaledconfusion_matrix scaledscore smote_accuracy_score  \\\n",
       "LinearSVC  [[2096840, 30], [1756, 1039]]    0.999149             0.945933   \n",
       "\n",
       "                  smote_gain            smoteconfusion_matrix smotescore  \\\n",
       "LinearSVC  72252310417.41136  [[1983444, 113426], [96, 2699]]   0.945933   \n",
       "\n",
       "          stratify_scaled_accuracy_score stratify_scaled_gain  \\\n",
       "LinearSVC                       0.999195    57103150306.73123   \n",
       "\n",
       "          stratify_scaledconfusion_matrix stratify_scaledscore  \n",
       "LinearSVC    [[1588573, 29], [1252, 801]]             0.999195  "
      ]
     },
     "execution_count": 35,
     "metadata": {},
     "output_type": "execute_result"
    }
   ],
   "source": [
    "df_results_svc"
   ]
  },
  {
   "cell_type": "markdown",
   "metadata": {},
   "source": [
    "Los metodos que maximizaron la ganancia fueron:\n",
    "* LogisticRegressionCV considerando solo columnas importantes\n",
    "* RandomForest usando smote\n",
    "* RandomForest con class_weight\n",
    "* LinearSVC usando StandarScaler"
   ]
  },
  {
   "cell_type": "markdown",
   "metadata": {},
   "source": [
    "Analizando las matrices de confusión:\n",
    "* LinearSVC con standar scaler dio solo 30 falsos positivos, aunque no predijo bien los casos fraudulentos\n",
    "* LogisticRegressionCV prefijo con poca presición los casos fraudulentos\n",
    "* RandomForest tuvo una tasa de falsos positivos y negativos considerables pero tuvo mas presición en ambos casos que los modelos vistos anteriormente\n",
    "* RandomForest con datos normales usando class_weight tuvo una tasa muy baja de falsos positivos, y una presición mejor que la mayoría de los modelos en caoss de fraude."
   ]
  },
  {
   "cell_type": "markdown",
   "metadata": {},
   "source": [
    "Por esto nos quedamos con el modelo Random Forest usando class weight, cuyas métricas fueron las siguientes"
   ]
  },
  {
   "cell_type": "code",
   "execution_count": 54,
   "metadata": {},
   "outputs": [
    {
     "data": {
      "text/plain": [
       "(4, 16)"
      ]
     },
     "execution_count": 54,
     "metadata": {},
     "output_type": "execute_result"
    }
   ],
   "source": [
    "df_results.shape"
   ]
  },
  {
   "cell_type": "code",
   "execution_count": 62,
   "metadata": {},
   "outputs": [
    {
     "name": "stdout",
     "output_type": "stream",
     "text": [
      "accuracy: 0.9996499441577585\n",
      "gain: 74695455966.25963\n",
      "score: 0.9996499441577585\n",
      "confusion matrix: [[2096850      20]\n",
      " [    715    2080]]\n"
     ]
    }
   ],
   "source": [
    "print(\"accuracy: \" + str(df_results.iloc[-1:]['normal_accuracy_score'][0]))\n",
    "print(\"gain: \" + str(df_results.iloc[-1:]['normal_gain'][0]))\n",
    "print(\"score: \" + str(df_results.iloc[-1:]['normalscore'][0]))\n",
    "print(\"confusion matrix: \" + str(df_results.iloc[-1:]['normalconfusion_matrix'][0]))"
   ]
  },
  {
   "cell_type": "code",
   "execution_count": 31,
   "metadata": {},
   "outputs": [],
   "source": [
    "# Ganancia\n",
    "def gain(prediction, y_test, amounts):\n",
    "    accumulated_gain = 0\n",
    "\n",
    "    for p, y, a in zip(prediction, y_test, amounts):\n",
    "        if p == 0 & y == 0:\n",
    "            accumulated_gain += 0.20 * a\n",
    "        #if p == 1 & y == 0:\n",
    "            # no gain and no lost\n",
    "        if p == 0 & y == 1:\n",
    "            accumulated_gain += -a\n",
    "\n",
    "        #if p == 1 & y == 1:\n",
    "            # no gain and no lost \n",
    "    return accumulated_gain"
   ]
  }
 ],
 "metadata": {
  "kernelspec": {
   "display_name": "Python 3.9.12 ('base')",
   "language": "python",
   "name": "python3"
  },
  "language_info": {
   "codemirror_mode": {
    "name": "ipython",
    "version": 3
   },
   "file_extension": ".py",
   "mimetype": "text/x-python",
   "name": "python",
   "nbconvert_exporter": "python",
   "pygments_lexer": "ipython3",
   "version": "3.9.12"
  },
  "orig_nbformat": 4,
  "vscode": {
   "interpreter": {
    "hash": "2694cdbf4718a5ec247b545273d596d40a2acbca35541806ef80a95b7d0be348"
   }
  }
 },
 "nbformat": 4,
 "nbformat_minor": 2
}
